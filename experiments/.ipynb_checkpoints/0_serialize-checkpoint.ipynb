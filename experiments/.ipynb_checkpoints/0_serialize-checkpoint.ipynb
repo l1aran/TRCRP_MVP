{
 "cells": [
  {
   "cell_type": "markdown",
   "id": "265ce5ae-9a1c-47be-8ef7-195d81f0e32f",
   "metadata": {},
   "source": [
    "## Setup\n",
    "\n",
    "First, we set up our notebook by downloading the appropriate packages"
   ]
  },
  {
   "cell_type": "markdown",
   "id": "38c2c03f-3522-48af-bc81-9f6a34d95f4d",
   "metadata": {},
   "source": [
    "### Dependencies"
   ]
  },
  {
   "cell_type": "code",
   "execution_count": 1,
   "id": "940dfb36-3d58-43a5-8cb7-f90bad95c523",
   "metadata": {},
   "outputs": [
    {
     "name": "stdout",
     "output_type": "stream",
     "text": [
      "Requirement already satisfied: matplotlib in /opt/conda/lib/python3.11/site-packages (3.9.0)\n",
      "Requirement already satisfied: scipy in /opt/conda/lib/python3.11/site-packages (1.14.0)\n",
      "Requirement already satisfied: pandas in /opt/conda/lib/python3.11/site-packages (2.2.2)\n",
      "Requirement already satisfied: numpy in /opt/conda/lib/python3.11/site-packages (2.0.0)\n",
      "Requirement already satisfied: networkx in /opt/conda/lib/python3.11/site-packages (3.3)\n",
      "Requirement already satisfied: seaborn in /opt/conda/lib/python3.11/site-packages (0.13.2)\n",
      "Requirement already satisfied: scikit-learn in /opt/conda/lib/python3.11/site-packages (1.5.0)\n",
      "Requirement already satisfied: cython in /opt/conda/lib/python3.11/site-packages (3.0.10)\n",
      "Requirement already satisfied: contourpy>=1.0.1 in /opt/conda/lib/python3.11/site-packages (from matplotlib) (1.2.1)\n",
      "Requirement already satisfied: cycler>=0.10 in /opt/conda/lib/python3.11/site-packages (from matplotlib) (0.12.1)\n",
      "Requirement already satisfied: fonttools>=4.22.0 in /opt/conda/lib/python3.11/site-packages (from matplotlib) (4.53.0)\n",
      "Requirement already satisfied: kiwisolver>=1.3.1 in /opt/conda/lib/python3.11/site-packages (from matplotlib) (1.4.5)\n",
      "Requirement already satisfied: packaging>=20.0 in /opt/conda/lib/python3.11/site-packages (from matplotlib) (23.1)\n",
      "Requirement already satisfied: pillow>=8 in /opt/conda/lib/python3.11/site-packages (from matplotlib) (10.3.0)\n",
      "Requirement already satisfied: pyparsing>=2.3.1 in /opt/conda/lib/python3.11/site-packages (from matplotlib) (3.1.2)\n",
      "Requirement already satisfied: python-dateutil>=2.7 in /opt/conda/lib/python3.11/site-packages (from matplotlib) (2.8.2)\n",
      "Requirement already satisfied: pytz>=2020.1 in /opt/conda/lib/python3.11/site-packages (from pandas) (2023.3.post1)\n",
      "Requirement already satisfied: tzdata>=2022.7 in /opt/conda/lib/python3.11/site-packages (from pandas) (2024.1)\n",
      "Requirement already satisfied: joblib>=1.2.0 in /opt/conda/lib/python3.11/site-packages (from scikit-learn) (1.4.2)\n",
      "Requirement already satisfied: threadpoolctl>=3.1.0 in /opt/conda/lib/python3.11/site-packages (from scikit-learn) (3.5.0)\n",
      "Requirement already satisfied: six>=1.5 in /opt/conda/lib/python3.11/site-packages (from python-dateutil>=2.7->matplotlib) (1.16.0)\n",
      "Note: you may need to restart the kernel to use updated packages.\n"
     ]
    }
   ],
   "source": [
    "pip install matplotlib scipy pandas numpy networkx seaborn scikit-learn cython"
   ]
  },
  {
   "cell_type": "code",
   "execution_count": null,
   "id": "69ab622f-ccb6-46a0-af01-aed40934a30c",
   "metadata": {},
   "outputs": [],
   "source": []
  },
  {
   "cell_type": "markdown",
   "id": "36f0931d-1a51-4904-a6a0-dd0c6daf9f27",
   "metadata": {},
   "source": [
    "### Imports"
   ]
  },
  {
   "cell_type": "code",
   "execution_count": 2,
   "id": "e5971b05-ca1b-47aa-aed2-72198ae0d3eb",
   "metadata": {},
   "outputs": [],
   "source": [
    "# base libraries\n",
    "import importlib\n",
    "import pandas as pd\n",
    "import numpy as np\n",
    "\n",
    "import seaborn as sns\n",
    "%matplotlib inline\n",
    "import matplotlib.pyplot as plt\n",
    "\n",
    "import os\n",
    "\n",
    "import networkx as nx\n",
    "\n",
    "import time\n",
    "\n",
    "from IPython.utils.io import capture_output # supress outputs\n",
    "\n",
    "from sklearn.metrics.cluster import adjusted_rand_score"
   ]
  },
  {
   "cell_type": "markdown",
   "id": "ddc1cc3e-50e0-4bd1-b8c6-a7c508161c65",
   "metadata": {},
   "source": [
    "### Fix pathway"
   ]
  },
  {
   "cell_type": "code",
   "execution_count": 4,
   "id": "cadebd9f-36b0-4e65-b996-e851a3295240",
   "metadata": {},
   "outputs": [
    {
     "name": "stdout",
     "output_type": "stream",
     "text": [
      "Current working directory: /hdsi-collab-persistent/cephfs\n"
     ]
    }
   ],
   "source": [
    "# fix directory\n",
    "current_dir = os.getcwd()\n",
    "parent_dir = os.path.dirname(current_dir)\n",
    "os.chdir(parent_dir)\n",
    "\n",
    "print(\"Current working directory:\", os.getcwd())\n",
    "\n",
    "from trcrpm.src import Hierarchical_TRCRP_Mixture, TRCRP_Mixture"
   ]
  },
  {
   "cell_type": "markdown",
   "id": "df3d4644-869c-46a7-bb6a-2c6744ff0e74",
   "metadata": {},
   "source": [
    "### Helper Functions\n",
    "\n",
    "1. **`run_model(data, num_chains = 8, p = 5, MCMC_steps=1000, hyperparam_steps=50, runtime = True)`**\n",
    "    - **Returns**: Fitted model\n",
    "        - The dataframe index needs to be reset as an integer.\n",
    "        - Choose a high number for `MCMC_steps` to allow for a burn-in period.\n",
    "        - `p` is our lag window\n",
    "\n",
    "2. **`post_dep(model, num_samples)`**\n",
    "    - **Returns**: Pairwise posterior dependence matrices (cluster probabilities)\n",
    "        - The array is of size `NUM_SAMPLES x NUM_CHAINS x LEN(DF) x LEN(DF)`\n",
    "\n",
    "3. **`clustering(post_probs, threshold = 0.75)`**\n",
    "    - **Returns**: Clusters\n",
    "        - If time series `i` and `k` are dependent in `threshold%` of samples, they are clustered together.\n",
    "        - Averages over `NUM_SAMPLES` and `NUM_CHAINS`.\n",
    "\n",
    "4. **`return_ari(true_labels, predicted_clusters)`**\n",
    "    - **Returns**: Adjusted Rand Index (ARI) if ground truth is available\n"
   ]
  },
  {
   "cell_type": "code",
   "execution_count": 5,
   "id": "37c4c6ce-df4e-4cc9-a9c2-b665a66c0aa9",
   "metadata": {},
   "outputs": [],
   "source": [
    "import importlib"
   ]
  },
  {
   "cell_type": "code",
   "execution_count": 6,
   "id": "7370162f-0cb5-4ec4-8e7c-13379e01b5cf",
   "metadata": {},
   "outputs": [
    {
     "ename": "ModuleNotFoundError",
     "evalue": "No module named 'experiments'",
     "output_type": "error",
     "traceback": [
      "\u001b[0;31m---------------------------------------------------------------------------\u001b[0m",
      "\u001b[0;31mModuleNotFoundError\u001b[0m                       Traceback (most recent call last)",
      "Cell \u001b[0;32mIn[6], line 1\u001b[0m\n\u001b[0;32m----> 1\u001b[0m \u001b[38;5;28;01mimport\u001b[39;00m \u001b[38;5;21;01mexperiments\u001b[39;00m\u001b[38;5;21;01m.\u001b[39;00m\u001b[38;5;21;01mhelper_functions\u001b[39;00m \u001b[38;5;28;01mas\u001b[39;00m \u001b[38;5;21;01mhelpers\u001b[39;00m\n\u001b[1;32m      2\u001b[0m importlib\u001b[38;5;241m.\u001b[39mreload(helpers)\n",
      "\u001b[0;31mModuleNotFoundError\u001b[0m: No module named 'experiments'"
     ]
    }
   ],
   "source": [
    "import experiments.helper_functions as helpers\n",
    "importlib.reload(helpers)"
   ]
  },
  {
   "cell_type": "markdown",
   "id": "23a0549f-bc75-4859-b657-d161ef30e537",
   "metadata": {},
   "source": [
    "## Data Generation (Sin Waves)"
   ]
  },
  {
   "cell_type": "code",
   "execution_count": null,
   "id": "cfc9b762-4f22-4302-979f-499f05ec4c8e",
   "metadata": {},
   "outputs": [],
   "source": [
    "import experiments.data_generation as data_gen\n",
    "importlib.reload(data_gen)\n",
    "\n",
    "df = data_gen.generate_sine_wave_data(frequency_noise=0.1, random_state=42, use_colors = True, \n",
    "                                      num_samples = 10, fixed_amplitude = 2, num_clusters = 2)\n",
    "df.head()"
   ]
  },
  {
   "cell_type": "markdown",
   "id": "9c143629-f8b6-4b45-92af-6c066b3bfbb5",
   "metadata": {},
   "source": [
    "## Run Analysis"
   ]
  },
  {
   "cell_type": "code",
   "execution_count": null,
   "id": "c4ca2883-3cc9-4859-a726-a763376f3e75",
   "metadata": {},
   "outputs": [],
   "source": [
    "data = df.iloc[1:]\n",
    "labels = df.iloc[0].values\n",
    "\n",
    "print(data.shape) # NUM_OBSERVATIONS X NUM_TIMESEREIES"
   ]
  },
  {
   "cell_type": "code",
   "execution_count": null,
   "id": "c86cf842-7a09-4942-abe1-111116b12652",
   "metadata": {},
   "outputs": [],
   "source": [
    "model = helpers.run_model(data)"
   ]
  },
  {
   "cell_type": "code",
   "execution_count": null,
   "id": "1b8efede-031a-4910-b71e-6e9dcaf96063",
   "metadata": {},
   "outputs": [],
   "source": [
    "dep_matrices = helpers.post_dep(model, 20)"
   ]
  },
  {
   "cell_type": "code",
   "execution_count": null,
   "id": "055b9e79-663b-4cd0-93e6-089b3e5efdb0",
   "metadata": {},
   "outputs": [],
   "source": [
    "# compare predicted and true clusters"
   ]
  },
  {
   "cell_type": "code",
   "execution_count": null,
   "id": "43a58431-0ccd-42b4-ada0-4238113f8ddd",
   "metadata": {},
   "outputs": [],
   "source": [
    "predicted_clusters = helpers.clustering(dep_matrices, threshold = 0.75)\n",
    "predicted_clusters"
   ]
  },
  {
   "cell_type": "code",
   "execution_count": null,
   "id": "85c8b8c7-f87d-4145-a1dc-c5c17bf4cea3",
   "metadata": {},
   "outputs": [],
   "source": [
    "helpers.return_ari(labels, predicted_clusters)"
   ]
  },
  {
   "cell_type": "code",
   "execution_count": null,
   "id": "d1a403ef-17d6-4101-9ea4-5aa121b94791",
   "metadata": {},
   "outputs": [],
   "source": [
    "unique_labels = np.unique(labels)\n",
    "# step size (number of elements per cluster)\n",
    "step = len(labels) // len(unique_labels)\n",
    "\n",
    "# clusters as list \n",
    "clusters = [[int(label) for label in np.where(labels == label)[0]] for label in unique_labels]\n",
    "clusters"
   ]
  },
  {
   "cell_type": "markdown",
   "id": "972583d8-54fc-40b7-874e-c6bc40f79c9b",
   "metadata": {},
   "source": [
    "## Plotting\n"
   ]
  },
  {
   "cell_type": "code",
   "execution_count": null,
   "id": "67b8004d-abaa-410f-9482-52a5b53b920e",
   "metadata": {},
   "outputs": [],
   "source": [
    "import plotting_functions as plot\n",
    "importlib.reload(plot)"
   ]
  },
  {
   "cell_type": "code",
   "execution_count": null,
   "id": "bd7b3f34-3b39-4341-91ea-2a86e564f881",
   "metadata": {},
   "outputs": [],
   "source": [
    "%%capture\n",
    "# need to simulate samples for confidence interval\n",
    "# we sample from the posterior to get confidence interval for forecasted values\n",
    "# some bug inside .simulate so supressing outputs for now\n",
    "# bug is in cgpm.src.crosscat.sampling (print statement in simulate_row)\n",
    "probes = model.dataset.index\n",
    "numsamples = 10\n",
    "samples = model.simulate(probes, model.variables, numsamples)"
   ]
  },
  {
   "cell_type": "markdown",
   "id": "28fc0407-193a-4ee6-93b5-f4865e409991",
   "metadata": {},
   "source": [
    "### Helper Functions "
   ]
  },
  {
   "cell_type": "code",
   "execution_count": null,
   "id": "807c9ecb-26e1-443e-b0de-6db9c8234b94",
   "metadata": {
    "scrolled": true
   },
   "outputs": [],
   "source": [
    "# compare labels with predicted_labels\n",
    "plot.plot_df(data, labels)\n",
    "plot.plot_df(data, predicted_labels)"
   ]
  },
  {
   "cell_type": "code",
   "execution_count": null,
   "id": "8abbaf53-9456-4d79-8030-42fda9f475fd",
   "metadata": {},
   "outputs": [],
   "source": [
    "plot.plot_cluster_variables(samples, [1, 6, 26, 41], ax, states_from_chain=2)\n"
   ]
  },
  {
   "cell_type": "markdown",
   "id": "f988f5f9-1dc9-4363-b404-0a1c3f841706",
   "metadata": {},
   "source": [
    "### Serialize "
   ]
  },
  {
   "cell_type": "code",
   "execution_count": null,
   "id": "2f5c79b5-a991-429c-9a6f-8b2ae04d827d",
   "metadata": {},
   "outputs": [],
   "source": [
    "metadata = model.to_metadata()"
   ]
  },
  {
   "cell_type": "code",
   "execution_count": null,
   "id": "42bbccaf-eaa7-401b-b83a-2b52a6a4f9b5",
   "metadata": {},
   "outputs": [],
   "source": [
    "# from collections import OrderedDict\n",
    "# def convert_to_serializable(obj):\n",
    "#     if isinstance(obj, dict):\n",
    "#         return {key: convert_to_serializable(value) for key, value in obj.items()}\n",
    "#     elif isinstance(obj, list):\n",
    "#         return [convert_to_serializable(item) for item in obj]\n",
    "#     elif isinstance(obj, tuple):\n",
    "#         return tuple(convert_to_serializable(item) for item in obj)\n",
    "#     elif isinstance(obj, set):\n",
    "#         return list(convert_to_serializable(item) for item in obj)\n",
    "#     elif isinstance(obj, OrderedDict):  # Handling OrderedDict specifically\n",
    "#         return list(obj.items())\n",
    "#     else:\n",
    "#         return obj\n",
    "\n",
    "# # Convert metadata to a serializable format\n",
    "# serializable_metadata = convert_to_serializable(metadata)\n",
    "\n",
    "# # Now you can serialize it\n",
    "# json_metadata = json.dumpfs(serializable_metadata)\n",
    "# print(json_metadata)"
   ]
  },
  {
   "cell_type": "code",
   "execution_count": null,
   "id": "c0b9d248-a85b-40d9-b55c-f60fa2685a26",
   "metadata": {
    "scrolled": true
   },
   "outputs": [],
   "source": [
    "# metadata['engine']"
   ]
  },
  {
   "cell_type": "code",
   "execution_count": null,
   "id": "5bdaa3b8-d6fd-4091-8985-d609c5195456",
   "metadata": {},
   "outputs": [],
   "source": [
    "import json\n",
    "json_metadaata = json.dumps(metadata)"
   ]
  },
  {
   "cell_type": "code",
   "execution_count": null,
   "id": "b96229a2-e854-4215-a60c-2eee18221be5",
   "metadata": {},
   "outputs": [],
   "source": [
    "modname, attrname = metadata['factory']"
   ]
  },
  {
   "cell_type": "code",
   "execution_count": null,
   "id": "3b0c2174-fe47-4cf1-a07a-c5da5eba2cf7",
   "metadata": {},
   "outputs": [],
   "source": [
    "module = importlib.import_module(modname + '.src') "
   ]
  },
  {
   "cell_type": "code",
   "execution_count": null,
   "id": "070514ef-ac90-40e0-ab71-7ffc5a6a05e7",
   "metadata": {},
   "outputs": [],
   "source": [
    "module"
   ]
  },
  {
   "cell_type": "code",
   "execution_count": null,
   "id": "54924856-2d28-4e17-bb83-e829b86ee679",
   "metadata": {},
   "outputs": [],
   "source": [
    "klass = getattr(module, attrname)"
   ]
  },
  {
   "cell_type": "code",
   "execution_count": null,
   "id": "3d9462af-552c-49ea-a3ca-e08e946e49ac",
   "metadata": {},
   "outputs": [],
   "source": [
    "model2 = klass.from_metadata("
   ]
  }
 ],
 "metadata": {
  "kernelspec": {
   "display_name": "Python 3 (ipykernel)",
   "language": "python",
   "name": "python3"
  },
  "language_info": {
   "codemirror_mode": {
    "name": "ipython",
    "version": 3
   },
   "file_extension": ".py",
   "mimetype": "text/x-python",
   "name": "python",
   "nbconvert_exporter": "python",
   "pygments_lexer": "ipython3",
   "version": "3.11.5"
  }
 },
 "nbformat": 4,
 "nbformat_minor": 5
}
